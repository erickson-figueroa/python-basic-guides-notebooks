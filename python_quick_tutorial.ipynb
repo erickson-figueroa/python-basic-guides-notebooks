{
 "metadata": {
  "language_info": {
   "codemirror_mode": {
    "name": "ipython",
    "version": 3
   },
   "file_extension": ".py",
   "mimetype": "text/x-python",
   "name": "python",
   "nbconvert_exporter": "python",
   "pygments_lexer": "ipython3",
   "version": "3.7.4-final"
  },
  "orig_nbformat": 2,
  "kernelspec": {
   "name": "python3",
   "display_name": "Python 3",
   "language": "python"
  }
 },
 "nbformat": 4,
 "nbformat_minor": 2,
 "cells": [
  {
   "source": [
    "Python quick tutorials from the book: Python Notes For Professionals   \n",
    "Link Reference: https://goalkicker.com/ "
   ],
   "cell_type": "markdown",
   "metadata": {}
  },
  {
   "source": [
    "### Table of Contents\n",
    "\n",
    "* [Chapter 1](#chapter1)\n",
    "    * [Section 1.1: Getting Started](#section_1_1)\n",
    "    * [Section 1.2: Creating variables and assigning values](#Section_1_2)\n",
    "    * [Section 1.3: Block Indentation](#Section_1_3)\n",
    "    * [Section 1.4: Datatypes](#Section_1_4)\n",
    "    * [Section 1.5: Collection Types](#Section_1_5)\n",
    "       \n",
    "* [Chapter 2](#chapter2)\n",
    "    * [Section 2.1](#section_2_1)\n",
    "    * [Section 2.2](#section_2_2)"
   ],
   "cell_type": "markdown",
   "metadata": {}
  },
  {
   "source": [
    "### Section 1.1: Quick Introduction to Python <a class=\"anchor\" id=\"chapter1\"></a>"
   ],
   "cell_type": "markdown",
   "metadata": {}
  },
  {
   "source": [
    "<p>Python is a widely used high-level programming language for general-purpose programming, created by Guido van\n",
    "Rossum and first released in 1991. Python features a dynamic type system and automatic memory management\n",
    "and supports multiple programming paradigms, including object-oriented, imperative, functional programming,\n",
    "and procedural styles. It has a large and comprehensive standard library.\n",
    "Two major versions of Python are currently in active use:\n",
    "Python 3.x is the current version and is under active development.\n",
    "Python 2.x is the legacy version and will receive only security updates until 2020. No new features will be\n",
    "implemented. Note that many projects still use Python 2, although migrating to Python 3 is getting easier.\n",
    "You can download and install either version of Python here. See Python 3 vs. Python 2 for a comparison between\n",
    "them. In addition, some third-parties offer re-packaged versions of Python that add commonly used libraries and\n",
    "other features to ease setup for common use cases, such as math, data analysis or scientific use</p>"
   ],
   "cell_type": "markdown",
   "metadata": {}
  },
  {
   "source": [
    "### Section 1.2: Creating variables and assigning values <a class=\"anchor\" id=\"Section_1_2\"></a>"
   ],
   "cell_type": "markdown",
   "metadata": {}
  },
  {
   "source": [
    "To create a variable in Python, all you need to do is specify the variable name, and then assign a value to it.  \n",
    "\n",
    "#### <*variable name*> = <*value*>  \n",
    "\n",
    "Python uses = to assign values to variables. There's no need to declare a variable in advance (or to assign a data\n",
    "type to it), assigning a value to a variable itself declares and initializes the variable with that value. There's no way to declare a variable without assigning it an initial value.\n",
    "\n",
    "When you use = to do an assignment operation, what's on the left of = is a name for the object on the right. Finally,\n",
    "what = does is assign the reference of the object on the right to the name on the left.\n",
    "\n",
    "That is:\n",
    "a_name = ** an_object # \"a_name\" ** is now a name for the reference to the object \"an_object\"\n",
    "\n"
   ],
   "cell_type": "markdown",
   "metadata": {}
  },
  {
   "cell_type": "code",
   "execution_count": 3,
   "metadata": {},
   "outputs": [
    {
     "output_type": "stream",
     "name": "stdout",
     "text": [
      "2\n"
     ]
    }
   ],
   "source": [
    "# Integer\n",
    "a = 2\n",
    "print(a)"
   ]
  },
  {
   "cell_type": "code",
   "execution_count": 4,
   "metadata": {},
   "outputs": [
    {
     "output_type": "stream",
     "name": "stdout",
     "text": [
      "9223372036854775807\n<class 'int'>\n"
     ]
    }
   ],
   "source": [
    "# Integer\n",
    "b = 9223372036854775807\n",
    "print(b)\n",
    "print(type(b))"
   ]
  },
  {
   "cell_type": "code",
   "execution_count": 5,
   "metadata": {},
   "outputs": [
    {
     "output_type": "stream",
     "name": "stdout",
     "text": [
      "3.14\n<class 'float'>\n"
     ]
    }
   ],
   "source": [
    "# Floating point\n",
    "pi = 3.14\n",
    "print(pi)\n",
    "print(type(pi))"
   ]
  },
  {
   "cell_type": "code",
   "execution_count": 6,
   "metadata": {},
   "outputs": [
    {
     "output_type": "stream",
     "name": "stdout",
     "text": [
      "A\n<class 'str'>\n"
     ]
    }
   ],
   "source": [
    "# String\n",
    "c = 'A'\n",
    "print(c)\n",
    "print(type(c))"
   ]
  },
  {
   "cell_type": "code",
   "execution_count": 7,
   "metadata": {},
   "outputs": [
    {
     "output_type": "stream",
     "name": "stdout",
     "text": [
      "Jonh Doe\n<class 'str'>\n"
     ]
    }
   ],
   "source": [
    "name = 'Jonh Doe'\n",
    "print(name)\n",
    "print(type(name))"
   ]
  },
  {
   "cell_type": "code",
   "execution_count": 8,
   "metadata": {},
   "outputs": [
    {
     "output_type": "stream",
     "name": "stdout",
     "text": [
      "<class 'bool'>\n"
     ]
    }
   ],
   "source": [
    "# Bool\n",
    "q = True\n",
    "print(type(q))"
   ]
  },
  {
   "cell_type": "code",
   "execution_count": 9,
   "metadata": {},
   "outputs": [
    {
     "output_type": "stream",
     "name": "stdout",
     "text": [
      "<class 'NoneType'>\n"
     ]
    }
   ],
   "source": [
    "# None\n",
    "x = None\n",
    "print(type(x))"
   ]
  },
  {
   "cell_type": "code",
   "execution_count": 10,
   "metadata": {},
   "outputs": [
    {
     "output_type": "stream",
     "name": "stdout",
     "text": [
      "1 2 3\n"
     ]
    }
   ],
   "source": [
    "# You can assign multiple values to multiple variables in one line. Note that there must be the same number of arguments on the right and left sides \n",
    "# of the = operator:\n",
    "\n",
    "a, b, c = 1, 2, 3\n",
    "print(a, b, c)"
   ]
  },
  {
   "cell_type": "code",
   "execution_count": 11,
   "metadata": {},
   "outputs": [
    {
     "output_type": "stream",
     "name": "stdout",
     "text": [
      "1 1 1\n"
     ]
    }
   ],
   "source": [
    "# You can also assign a single value to several variables simultaneously.\n",
    "a = b = c = 1\n",
    "print(a,b,c)"
   ]
  },
  {
   "cell_type": "code",
   "execution_count": 12,
   "metadata": {},
   "outputs": [
    {
     "output_type": "stream",
     "name": "stdout",
     "text": [
      "1 1 1\n1 2 1\n"
     ]
    }
   ],
   "source": [
    "# Assigning a different object to one of them afterwards doesn't change the others, just as expected:\n",
    "\n",
    "a = b = c = 1 # all three names a, b and c refer to same int object with value 1\n",
    "print(a, b, c)\n",
    "# Output: 1 1 1\n",
    "\n",
    "b = 2 # b now refers to another int object, one with a value of 2\n",
    "print(a, b, c)\n",
    "# Output: 1 2 1 # so output is as expected."
   ]
  },
  {
   "cell_type": "code",
   "execution_count": 13,
   "metadata": {},
   "outputs": [
    {
     "output_type": "stream",
     "name": "stdout",
     "text": [
      "[7, 8, 9]\n"
     ]
    }
   ],
   "source": [
    "# The above is also true for mutable types (like list, dict, etc.) just as it is true for immutable types (like int, string,tuple, etc.):\n",
    "\n",
    "x = y = [7, 8, 9] # x and y refer to the same list object just created, [7, 8, 9]\n",
    "\n",
    "x = [13, 8, 9] # x now refers to a different list object just created, [13, 8, 9]\n",
    "\n",
    "print(y) # y still refers to the list it was first assigned\n",
    "# Output: [7, 8, 9]"
   ]
  },
  {
   "source": [
    "# So far so good. Things are a bit different when it comes to modifying the object (in contrast to assigning the name to\n",
    "# a different object, which we did above) when the cascading assignment is used for mutable types. Take a look\n",
    "# below, and you will see it first hand:\n",
    "\n",
    "x = y = [7, 8, 9] # x and y are two different names for the same list object just created, [7,8, 9]\n",
    "\n",
    "x[0] = 13 # we are updating the value of the list [7, 8, 9] through one of its names, x\n",
    "\n",
    "# in this case\n",
    "print(y) # printing the value of the list using its other name\n",
    "# Output: [13, 8, 9] # hence, naturally the change is reflected"
   ],
   "cell_type": "code",
   "metadata": {},
   "execution_count": 38,
   "outputs": [
    {
     "output_type": "stream",
     "name": "stdout",
     "text": [
      "[13, 8, 9]\n"
     ]
    }
   ]
  },
  {
   "cell_type": "code",
   "execution_count": 14,
   "metadata": {},
   "outputs": [
    {
     "output_type": "stream",
     "name": "stdout",
     "text": [
      "[3, 4, 5]\n4\n"
     ]
    }
   ],
   "source": [
    "# Nested lists are also valid in python. This means that a list can contain another list as an element.\n",
    "\n",
    "x= [1,2,[3,4,5],6,7] # this is nested list\n",
    "print(x[2])\n",
    "\n",
    "print(x[2][1])"
   ]
  },
  {
   "cell_type": "code",
   "execution_count": 37,
   "metadata": {},
   "outputs": [
    {
     "output_type": "stream",
     "name": "stdout",
     "text": [
      "2\n<class 'int'>\nNew Value\n<class 'str'>\n"
     ]
    }
   ],
   "source": [
    "# Lastly, variables in Python do not have to stay the same type as which they were first defined -- you can simply use = to assign a new value to a variable, even if that value is of a different type:\n",
    "\n",
    "a = 2\n",
    "print(a)\n",
    "print(type(a))\n",
    "\n",
    "a = \"New Value\"\n",
    "print(a)\n",
    "print(type(a))"
   ]
  },
  {
   "source": [
    "### Section 1.3: Block Indentation<a class=\"anchor\" id=\"Section_1_3\"></a>"
   ],
   "cell_type": "markdown",
   "metadata": {}
  },
  {
   "source": [
    "<p>Python uses indentation to define control and loop constructs. This contributes to Python's readability, however, it\n",
    "requires the programmer to pay close attention to the use of whitespace. Thus, editor miscalibration could result in\n",
    "code that behaves in unexpected ways.</p>\n",
    "\n",
    "<p>Python uses the colon symbol (:) and indentation for showing where blocks of code begin and end (If you come\n",
    "from another language, do not confuse this with somehow being related to the ternary operator). That is, blocks in\n",
    "Python, such as functions, loops, if clauses and other constructs, have no ending identifiers. All blocks start with a\n",
    "colon and then contain the indented lines below it.</p>\n",
    "\n",
    "Spaces vs. Tabs\n",
    "In short: always use 4 spaces for indentation.\n",
    "https://www.python.org/dev/peps/pep-0008/#should-a-line-break-before-or-after-a-binary-operator\n",
    "\n",
    "\n",
    "\n",
    "\n"
   ],
   "cell_type": "markdown",
   "metadata": {}
  },
  {
   "cell_type": "code",
   "execution_count": 49,
   "metadata": {},
   "outputs": [
    {
     "output_type": "stream",
     "name": "stdout",
     "text": [
      "2\n-----------\n3\n"
     ]
    }
   ],
   "source": [
    "# For example:\n",
    "def my_function(): # This is a function definition. Note the colon (:)\n",
    "    a = 2          # This line belongs to the function because it's indented  \n",
    "    return a         # This line also belongs to the same function\n",
    "print(my_function()) # This line is OUTSIDE the function block\n",
    "print('-----------')\n",
    "\n",
    "# or\n",
    "number1 = 1\n",
    "number2 = 3\n",
    "if number1 > number2:    # If block starts here\n",
    "    print(number1)       # This is part of the if block\n",
    "else:                    # else must be at the same level as if\n",
    "    print(number2) # This line is part of the else block"
   ]
  },
  {
   "cell_type": "code",
   "execution_count": 55,
   "metadata": {},
   "outputs": [
    {
     "output_type": "stream",
     "name": "stdout",
     "text": [
      "2\n"
     ]
    }
   ],
   "source": [
    "# Blocks that contain exactly one single-line statement may be put on the same line, though this form is generally not\n",
    "# considered good style:\n",
    "ass =1 \n",
    "bss =2\n",
    "if ass > bss: print(ass)\n",
    "else: print(bss) "
   ]
  },
  {
   "cell_type": "code",
   "execution_count": 56,
   "metadata": {},
   "outputs": [
    {
     "output_type": "error",
     "ename": "IndentationError",
     "evalue": "unexpected indent (<ipython-input-56-96da55b9d1f1>, line 3)",
     "traceback": [
      "\u001b[1;36m  File \u001b[1;32m\"<ipython-input-56-96da55b9d1f1>\"\u001b[1;36m, line \u001b[1;32m3\u001b[0m\n\u001b[1;33m    print(y) # IndentationError: unexpected indent\u001b[0m\n\u001b[1;37m    ^\u001b[0m\n\u001b[1;31mIndentationError\u001b[0m\u001b[1;31m:\u001b[0m unexpected indent\n"
     ]
    }
   ],
   "source": [
    "# Attempting to do this with more than a single statement will not work:\n",
    "if x > y: y = x\n",
    "    print(y) # IndentationError: unexpected indent\n",
    "if x > y: while y != z: y -= 1 # SyntaxError: invalid syntax"
   ]
  },
  {
   "cell_type": "code",
   "execution_count": 58,
   "metadata": {},
   "outputs": [
    {
     "output_type": "stream",
     "name": "stdout",
     "text": [
      "Testing\n"
     ]
    }
   ],
   "source": [
    "# The correct identation of the above code.\n",
    "if x > y:\n",
    "    y = x\n",
    "if x > y:\n",
    "    while y != z:\n",
    "        y -= 1\n",
    "print('Testing')"
   ]
  },
  {
   "cell_type": "code",
   "execution_count": 60,
   "metadata": {},
   "outputs": [],
   "source": [
    "# An empty block causes an IndentationError. Use pass (a command that does nothing) when you have a block with no content:\n",
    "\n",
    "def will_be_implemented_later():\n",
    "    pass\n"
   ]
  },
  {
   "cell_type": "code",
   "execution_count": 70,
   "metadata": {},
   "outputs": [],
   "source": [
    "# Spaces vs. Tabs\n",
    "# In short: always use 4 spaces for indentation."
   ]
  },
  {
   "source": [
    "### Section 1.4: Datatypes<a class=\"anchor\" id=\"Section_1_4\"></a>"
   ],
   "cell_type": "markdown",
   "metadata": {}
  },
  {
   "cell_type": "code",
   "execution_count": 66,
   "metadata": {},
   "outputs": [
    {
     "output_type": "execute_result",
     "data": {
      "text/plain": [
       "True"
      ]
     },
     "metadata": {},
     "execution_count": 66
    }
   ],
   "source": [
    "# Built-in Types\n",
    "# Boooleans:\n",
    "# bool: A boolean value of either True or False. Logical operations like and, or, not can be performed on booleans.\n",
    "\n",
    "x or y # if x is False then y otherwise x\n",
    "x and y # if x is False then x otherwise y\n",
    "not x # if x is True then False, otherwise True \n",
    "\n",
    "# In Python 2.x and in Python 3.x, a boolean is also an int. The bool type is a subclass of the int type and True and False are its only instances:\n",
    "\n",
    "issubclass(bool, int) # True\n",
    "isinstance(True, bool) # True\n",
    "isinstance(False, bool) # True\n",
    " \n",
    "# If boolean values are used in arithmetic operations, their integer values (1 and 0 for True and False) will be used to return an integer result:\n",
    "\n",
    "True + False == 1 # 1 + 0 == 1\n",
    "True * True == 1 # 1 * 1 == 1"
   ]
  },
  {
   "cell_type": "code",
   "execution_count": 98,
   "metadata": {},
   "outputs": [],
   "source": [
    "# Integers:\n",
    "# int: Integer number\n",
    "\n",
    "a = 2\n",
    "b = 100\n",
    "c = 123456789\n",
    "d = 38563846326424324\n",
    "\n",
    "# float: Floating point number; precision depends on the implementation and system architecture, for CPython the float datatype corresponds to a C double.\n",
    "\n",
    "a = 2.0\n",
    "b = 100.e0\n",
    "c = 123456789.e1\n",
    "\n",
    "# complex: Complex numbers:\n",
    "a = 2 + 1j\n",
    "b = 100 + 10j\n",
    "# The <, <=, > and >= operators will raise a TypeError exception when any operand is a complex number.\n",
    "\n",
    "# Strings:\n",
    "# Python 3.x Version ≥ 3.0\n",
    "# str: a unicode string. The type of 'hello'\n",
    "# bytes: a byte string. The type of b'hello'\n",
    "\n",
    "# Sequences and collections:\n",
    "# Python differentiates between ordered sequences and unordered collections (such as set and dict).\n",
    "# strings (str, bytes, unicode) are sequences.\n",
    "# reversed: A reversed order of str with reversed function.\n",
    "\n",
    "a = reversed('hello')\n",
    "\n",
    "# tuple: \n",
    "# An ordered collection of n values of any type (n >= 0).\n",
    "# 'tuple' object does not support item assignment.\n",
    "\n",
    "a = (1,2,3)\n",
    "b = ('a', 1, 'python', (1,2))\n",
    "\n",
    "# list: \n",
    "# An ordered collection of n values of any type (n >= 0)\n",
    "# Not hashable; mutable.\n",
    "\n",
    "a = [1,2,3]\n",
    "b = ['a', 1, 'python', (1,2), [1,2]]\n",
    "b[2] = 'something else' # allowed  \n",
    "\n",
    "# set: \n",
    "# An unordered collection of unique values. Items must be hashable.\n",
    "\n",
    "\"\"\" declare a unordered collection\"\"\"\n",
    "a = {1, 2, 'a'}\n",
    "\n",
    "# dict: \n",
    "# An unordered collection of unique key-value pairs; keys must be hashable\n",
    "a = {1: 'one',\n",
    "     2: 'two'}\n",
    "b = {'a': [1, 2, 3],\n",
    "     'b': 'a string'}"
   ]
  },
  {
   "cell_type": "code",
   "execution_count": 173,
   "metadata": {},
   "outputs": [
    {
     "output_type": "stream",
     "name": "stdout",
     "text": [
      "<class 'str'>\nNot a surprise, I just defined x as None\nfoo\\nbar\n"
     ]
    }
   ],
   "source": [
    "# Built-in constants:\n",
    "# In conjunction with the built-in datatypes there are a small number of built-in constants in the built-in namespace:\n",
    "\n",
    "# True: The true value of the built-in type bool\n",
    "# False: The false value of the built-in type bool\n",
    "# None: A singleton object used to signal that a value is absent.\n",
    "# Ellipsis or ...: used in core Python3+ anywhere and limited usage in Python2.7+ as part of array notation.numpy and related packages use this as a 'include everything' reference in arrays.\n",
    "# NotImplemented: a singleton used to indicate to Python that a special method doesn't support the specific\n",
    "# arguments, and Python will try alternatives if available. \n",
    "\n",
    "a = None # No value will be assigned. Any valid datatype can be assigned later\n",
    "# None is always less than any number (None < -32 evaluates to True)\n",
    "\n",
    "# In python, we can check the datatype of an object using the built-in function type.\n",
    "\n",
    "a = '123'\n",
    "print(type(a))\n",
    "\n",
    "# In conditional statements it is possible to test the datatype with isinstance. However, it is usually not encouraged to rely on the type of the variable:\n",
    "\n",
    "i = 7\n",
    "if isinstance(i, int):\n",
    "    i + 1\n",
    "elif isinstance(1, str):\n",
    "    i = int(i)\n",
    "    i += 1\n",
    "# For information on the differences between type() and isinstance() read: Differences between isinstance and type in Python:\n",
    "# https://stackoverflow.com/questions/1549801    what-are-the-differences-between-type-and-isinstance\n",
    "\n",
    "# Here's an example where isinstance achieves something that type cannot:\n",
    "\n",
    "class Vehicle:\n",
    "    pass\n",
    "\n",
    "class Truck:\n",
    "    pass\n",
    "\n",
    "# in this case, a truck object is a Vehicle, but you'll get this:\n",
    "\n",
    "isinstance(Vehicle(), Vehicle)  # returns True\n",
    "type(Vehicle()) == Vehicle      # returns True\n",
    "isinstance(Truck(), Vehicle)    # returns True\n",
    "type(Truck()) == Vehicle        # returns False, and this probably won't be what you want.\n",
    "\n",
    "# To test if something is of NoneType:\n",
    "\n",
    "x = None\n",
    "if x is None:\n",
    "    print('Not a surprise, I just defined x as None')\n",
    "\n",
    "# Converstion between datatypes:\n",
    "\n",
    "# You can perform explicit datatype conversion.\n",
    "# For example, '123' is of str type and it can be converted to integer using int function.\n",
    "\n",
    "a = '123'\n",
    "b = int(a)\n",
    "\n",
    "# Converting from a float string such as '123.456' can be done using float function:\n",
    "\n",
    "a = '123.456'\n",
    "b = float(a)\n",
    "#c = int(a)  # ValueError: invalid literal for int() with base 10: '123.456'\n",
    "#d = int(b)  # 123\n",
    "\n",
    "# You can also convert sequence or collection types:\n",
    "\n",
    "a = 'hello'\n",
    "list(a)  # ['h', 'e', 'l', 'l', 'o']\n",
    "set(a)   # {'o', 'e', 'l', 'h'}\n",
    "tuple(a) # ('h', 'e', 'l', 'l', 'o')\n",
    "\n",
    "# Explicit string type at definition of literals:\n",
    "# With one letter labels just in front of the quotes you can tell what type of string you want to define.\n",
    "\n",
    "# b'foo bar': results bytes in Python 3, str in Python 2\n",
    "# u'foo bar': results str in Python 3, unicode in Python 2\n",
    "# 'foo bar': results str\n",
    "# r'foo bar': results so called raw string, where escaping special characters is not necessary, everything is taken verbatim as you typed\n",
    "\n",
    "normal = 'foo\\nbar' # foo \n",
    "# bar\n",
    "escaped = 'foo\\\\nbar' # foo\\nbar\n",
    "raw = r'foo\\nbar' # foo\\nbar\n",
    "\n",
    "# Mutable and Immutable Data Types:\n",
    "# An object is called mutable if it can be changed. For example, when you pass a list to some function, the list can be changed:\n",
    "\n",
    "def f(m):\n",
    "    m.append(3)  # adds a number to the list. This is a mutation.\n",
    "\n",
    "x = [1, 2]\n",
    "f(x)\n",
    "x == [1, 2]\n",
    "\n",
    "# An object is called immutable if it cannot be changed in any way. For example, integers are immutable, since there's no way to change them:\n",
    "\n",
    "def bar():\n",
    "    x = (1, 2)\n",
    "    g(x)\n",
    "    x == (1, 2) # Will always be True, since no function can change the object (1, 2)\n",
    "\n",
    "# Note that variables themselves are mutable, so we can reassign the variable x, but this does not change the object\n",
    "# that x had previously pointed to. It only made x point to a new object.\n",
    "\n",
    "# Data types whose instances are mutable are called mutable data types, and similarly for immutable objects and datatypes.\n",
    "\n",
    "# Examples of immutable Data Types:\n",
    "\n",
    "# int, long, float, complex\n",
    "# str\n",
    "# bytes\n",
    "# tuple\n",
    "# frozenset\n",
    "\n",
    "# Examples of mutable Data Types:\n",
    "\n",
    "# bytearray\n",
    "# list\n",
    "# set\n",
    "# dict\n",
    "\n",
    "\n"
   ]
  },
  {
   "source": [
    "### Section 1.5: Collection Types<a class=\"anchor\" id=\"Section_1_5\"></a>\n"
   ],
   "cell_type": "markdown",
   "metadata": {}
  },
  {
   "source": [
    "<p>There are a number of collection types in Python. While types such as int and str hold a single value, collection\n",
    "types hold multiple values.</p>"
   ],
   "cell_type": "markdown",
   "metadata": {}
  },
  {
   "cell_type": "code",
   "execution_count": 28,
   "metadata": {},
   "outputs": [
    {
     "output_type": "stream",
     "name": "stdout",
     "text": [
      "Alice\nCraig\nEric\nBob\n['Ann', 'Bob', 'Craig', 'Diana', 'Eric']\n['Alice', 'Bob', 'Craig', 'Diana', 'Eric', 'Sia']\n['Alice', 'Nikki', 'Craig', 'Diana', 'Eric', 'Sia']\nHello Alice\nHello Nikki\nHello Craig\nHello Diana\nHello Eric\n"
     ]
    }
   ],
   "source": [
    "## List:\n",
    "# The list type is probably the most commonly used collection type in Python. Despite its name, a list is more like an array in other languages, mostly JavaScript. In Python, a list is merely an ordered collection of valid Python values.\n",
    "\n",
    "int_list = [1, 2, 3]\n",
    "string_list = ['abc', 'defhgi']\n",
    "\n",
    "# a list can be empty:\n",
    "empty_list = []\n",
    "\n",
    "# The elements of a list are not restricted to a single data type, which makes sense given that Python is a dynamic language:\n",
    "mixed_list = [1, 'abc', True, 2.34, None]\n",
    "\n",
    "# A list can contain another list as its element:\n",
    "nested_list = [['a', 'b', 'c'], [1, 2, 3]]\n",
    "\n",
    "# The elements of a list can be accessed via an index, or numeric representation of their position:\n",
    "names = ['Alice', 'Bob', 'Craig', 'Diana', 'Eric']\n",
    "print(names[0]) # Alice\n",
    "print(names[2]) # Craig\n",
    "\n",
    "# Indices can also be negative which means counting from the end of the list (-1 being the index of the last element):\n",
    "print(names[-1]) # Eric\n",
    "print(names[-4]) # Bob\n",
    "\n",
    "# Lists are mutable, so you can change the values in a list:\n",
    "names[0] = 'Ann'\n",
    "print(names)\n",
    "# Outputs ['Ann', 'Bob', 'Craig', 'Diana', 'Eric']\n",
    "\n",
    "# Besides, it is possible to add and/or remove elements from a list:\n",
    "names = ['Alice', 'Bob', 'Craig', 'Diana', 'Eric']\n",
    "names.append(\"Sia\")\n",
    "print(names)\n",
    "# Outputs ['Alice', 'Bob', 'Craig', 'Diana', 'Eric', 'Sia']\n",
    "\n",
    "# Add a new element to list at a specific index. L.insert(index, object):\n",
    "names.insert(1, \"Nikki\")\n",
    "# Outputs ['Alice', 'Nikki', 'Bob', 'Craig', 'Diana', 'Eric', 'Sia']\n",
    "\n",
    "# Remove the first occurrence of a value with L.remove(value), returns None:\n",
    "names.remove(\"Bob\")\n",
    "print(names) # Outputs ['Alice', 'Nikki', 'Craig', 'Diana', 'Eric', 'Sia']\n",
    "\n",
    "# Get the index in the list of the first item whose value is x. It will show an error if there is no such item:\n",
    "names.index(\"Alice\")\n",
    "\n",
    "# Count length of list:\n",
    "len(names)\n",
    "\n",
    "# count occurrence of any item in list:\n",
    "a = [1, 1, 1, 2, 3, 4]\n",
    "a.count(1) # out: 3\n",
    "\n",
    "# Reverse the list:\n",
    "a.reverse()\n",
    "[4, 3, 2, 1, 1, 1]\n",
    "# or\n",
    "a[::-1]\n",
    "[4, 3, 2, 1, 1, 1]\n",
    "\n",
    "# Remove and return item at index (defaults to the last item) with L.pop([index]), returns the item:\n",
    "names.pop() # outputs 'Sia'\n",
    "\n",
    "# You can iterate over the list elements like below:\n",
    "for element in names:\n",
    "    print('Hello '+ str(element))  "
   ]
  },
  {
   "cell_type": "code",
   "execution_count": 29,
   "metadata": {},
   "outputs": [],
   "source": [
    "## Tuples:\n",
    "# A tuple is similar to a list except that it is fixed-length and immutable. So the values in the tuple cannot be changed.\n",
    "# Tuples are commonly used for small collections of values\n",
    "# that will not need to change, such as an IP address and port Tuples are represented with parentheses instead of square brackets:\n",
    "\n",
    "ip_address = ('10.20.30.40', 8080)\n",
    "\n",
    "# The same indexing rules for lists also apply to tuples. Tuples can also be nested and the values can be any valid Python valid.\n",
    "\n",
    "one_member_tuple = ('Only member',)\n",
    "\n",
    "# or\n",
    "\n",
    "one_member_tuple = 'Only member', # No brackets\n",
    "\n",
    "# or just using tuple syntax\n",
    "one_member_tuple = tuple(['Only member'])"
   ]
  },
  {
   "cell_type": "code",
   "execution_count": 33,
   "metadata": {},
   "outputs": [
    {
     "output_type": "stream",
     "name": "stdout",
     "text": [
      "Sacramento\nLitle Rock is the capital of Arkansas\nDenver is the capital of Colorado\nSacramento is the capital of California\nAtlanta is the capital of Georgia\n"
     ]
    }
   ],
   "source": [
    "## Dictionaries:\n",
    "# A dictionary in Python is a collection of key-value pairs. The dictionary is surrounded by curly braces. Each pair is separated by a comma and the key and value are separated by a colon. Here is an example:\n",
    "\n",
    "state_capital = {\n",
    "    'Arkansas': 'Litle Rock',\n",
    "    'Colorado': 'Denver',\n",
    "    'California': 'Sacramento',\n",
    "    'Georgia': 'Atlanta'\n",
    "}\n",
    "\n",
    "# To get a value, refer to it by its key:\n",
    "ca_capital  = state_capital['California']\n",
    "print(ca_capital)\n",
    "\n",
    "# You can also get all of the keys in a dictionary and then iterate over them:\n",
    "for k in state_capital.keys():\n",
    "    print('{} is the capital of {}'.format(state_capital[k], k))\n",
    "\n",
    "# Dictionaries strongly resemble JSON syntax. The native json module in the Python standard library can be used to convert between JSON and dictionaries.\n",
    "    "
   ]
  },
  {
   "cell_type": "code",
   "execution_count": 37,
   "metadata": {},
   "outputs": [],
   "source": [
    "## set:\n",
    "# A set is a collection of elements with no repeats and without insertion order but sorted order They are used in situations where it is only important that some things are grouped together, and not what order they were included. For large groups of data, it is much faster to check whether or not an element is in a set than it is to do the same for a list.\n",
    "\n",
    "# Defining a set is very similar to defining a dictionary:\n",
    "first_names = {'Adam', 'Beth', 'Charlie'}\n",
    "\n",
    "# Or you can build a set using an existing list:\n",
    "my_list = [1,2,3]\n",
    "my_set = set(my_list)\n",
    "\n",
    "# Check membership of the set using in:\n",
    "if name in first_names:\n",
    "    print(name)\n",
    "\n",
    "# You can iterate over a set exactly like a list, but remember: the values will be in an arbitrary, implementationdefined order."
   ]
  },
  {
   "cell_type": "code",
   "execution_count": 43,
   "metadata": {},
   "outputs": [
    {
     "output_type": "error",
     "ename": "KeyError",
     "evalue": "'Alabama'",
     "traceback": [
      "\u001b[1;31m---------------------------------------------------------------------------\u001b[0m",
      "\u001b[1;31mKeyError\u001b[0m                                  Traceback (most recent call last)",
      "\u001b[1;32m<ipython-input-43-1f19308bee12>\u001b[0m in \u001b[0;36m<module>\u001b[1;34m\u001b[0m\n\u001b[0;32m     13\u001b[0m \u001b[1;33m\u001b[0m\u001b[0m\n\u001b[0;32m     14\u001b[0m \u001b[1;31m# If we try to access a non-existent key, python returns us an error as follows:\u001b[0m\u001b[1;33m\u001b[0m\u001b[1;33m\u001b[0m\u001b[1;33m\u001b[0m\u001b[0m\n\u001b[1;32m---> 15\u001b[1;33m \u001b[0mstate_capitals\u001b[0m\u001b[1;33m[\u001b[0m\u001b[1;34m'Alabama'\u001b[0m\u001b[1;33m]\u001b[0m\u001b[1;33m\u001b[0m\u001b[1;33m\u001b[0m\u001b[0m\n\u001b[0m",
      "\u001b[1;31mKeyError\u001b[0m: 'Alabama'"
     ]
    }
   ],
   "source": [
    "## defaultdict: \n",
    "# A defaultdict is a dictionary with a default value for keys, so that keys for which no value has been explicitly defined can be accessed without errors. defaultdict is especially useful when the values in the dictionary are collections (lists, dicts, etc) in the sense that it does not need to be initialized every time when a new key is used.\n",
    "\n",
    "# A defaultdict will never raise a KeyError. Any key that does not exist gets the default value returned.\n",
    "\n",
    "# For example, consider the following dictionary\n",
    "state_capitals = {\n",
    " 'Arkansas': 'Little Rock',\n",
    " 'Colorado': 'Denver',\n",
    " 'California': 'Sacramento',\n",
    " 'Georgia': 'Atlanta'\n",
    "}\n",
    "\n",
    "# If we try to access a non-existent key, python returns us an error as follows:\n",
    "state_capitals['Alabama']\n"
   ]
  },
  {
   "cell_type": "code",
   "execution_count": 48,
   "metadata": {},
   "outputs": [],
   "source": [
    "# Let us try with a defaultdict. It can be found in the collections module.\n",
    "from collections import defaultdict\n",
    "state_capital = defaultdict(lambda: 'Boston' )\n",
    "\n",
    "# What we did here is to set a default value (Boston) in case the give key does not exist. Now populate the dict as before:\n",
    "\n",
    "state_capitals['Arkansas'] = 'Little Rock'\n",
    "state_capitals['California'] = 'Sacramento'\n",
    "state_capitals['Colorado'] = 'Denver'\n",
    "state_capitals['Georgia'] = 'Atlanta'\n",
    "\n",
    "# If we try to access the dict with a non-existent key, python will return us the default value i.e. Boston\n",
    "state_capitals['Alabama']"
   ]
  },
  {
   "cell_type": "code",
   "execution_count": null,
   "metadata": {},
   "outputs": [],
   "source": []
  }
 ]
}